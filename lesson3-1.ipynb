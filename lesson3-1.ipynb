{
 "cells": [
  {
   "cell_type": "code",
   "execution_count": 16,
   "id": "92e595d5",
   "metadata": {},
   "outputs": [
    {
     "data": {
      "text/plain": [
       "[10, 11, 12, 13, 14, 15, 16, 17, 18, 19, 20]"
      ]
     },
     "metadata": {},
     "output_type": "display_data"
    },
    {
     "data": {
      "text/plain": [
       "14"
      ]
     },
     "execution_count": 16,
     "metadata": {},
     "output_type": "execute_result"
    }
   ],
   "source": [
    "numbers = [1, 2, 3, 4, 5] #使用符號建立\n",
    "mixed_list = [1, \"Hello\",3.14, True] #元素值可以不同資料類型\n",
    "empty_list = []\n",
    "list_from_range = list(range(10,21))\n",
    "display(list_from_range)\n",
    "mixed_list \n",
    "#list的操作\n",
    "list_from_range[4] #subscript"
   ]
  },
  {
   "cell_type": "code",
   "execution_count": 13,
   "id": "b26a1876",
   "metadata": {},
   "outputs": [
    {
     "data": {
      "text/plain": [
       "[1, 3, 5, 7, 9]"
      ]
     },
     "execution_count": 13,
     "metadata": {},
     "output_type": "execute_result"
    }
   ],
   "source": [
    "range(5)\n",
    "range(1,5)\n",
    "list(range(1,10,2))"
   ]
  },
  {
   "cell_type": "code",
   "execution_count": 17,
   "id": "ef98e16c",
   "metadata": {},
   "outputs": [],
   "source": [
    "my_list = list(range(1,10,2))"
   ]
  },
  {
   "cell_type": "code",
   "execution_count": 21,
   "id": "b2fa125f",
   "metadata": {},
   "outputs": [
    {
     "data": {
      "text/plain": [
       "2"
      ]
     },
     "execution_count": 21,
     "metadata": {},
     "output_type": "execute_result"
    }
   ],
   "source": [
    "empty_list = []\n",
    "empty_list.append(67)\n",
    "empty_list.append(96)\n",
    "empty_list\n",
    "len(empty_list)"
   ]
  }
 ],
 "metadata": {
  "kernelspec": {
   "display_name": "base",
   "language": "python",
   "name": "python3"
  },
  "language_info": {
   "codemirror_mode": {
    "name": "ipython",
    "version": 3
   },
   "file_extension": ".py",
   "mimetype": "text/x-python",
   "name": "python",
   "nbconvert_exporter": "python",
   "pygments_lexer": "ipython3",
   "version": "3.12.7"
  }
 },
 "nbformat": 4,
 "nbformat_minor": 5
}
