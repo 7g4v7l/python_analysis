{
 "cells": [
  {
   "cell_type": "code",
   "execution_count": 27,
   "id": "7ff907dd",
   "metadata": {},
   "outputs": [
    {
     "data": {
      "text/plain": [
       "{'name': '徐國堂', 'age': 40, 'city': 'Taipei'}"
      ]
     },
     "execution_count": 27,
     "metadata": {},
     "output_type": "execute_result"
    }
   ],
   "source": [
    "p1 = {\"name\":'徐國堂',\n",
    "    'age':40,\n",
    "    'city':'Taipei'}\n",
    "p1"
   ]
  },
  {
   "cell_type": "code",
   "execution_count": 3,
   "id": "dd0bdf03",
   "metadata": {},
   "outputs": [
    {
     "name": "stdout",
     "output_type": "stream",
     "text": [
      "徐國堂\n",
      "40\n"
     ]
    }
   ],
   "source": [
    "print(p1['name'])\n",
    "print(p1.get('age'))"
   ]
  },
  {
   "cell_type": "code",
   "execution_count": 28,
   "id": "757d262b",
   "metadata": {},
   "outputs": [
    {
     "data": {
      "text/plain": [
       "{'name': '徐國堂'}"
      ]
     },
     "execution_count": 28,
     "metadata": {},
     "output_type": "execute_result"
    }
   ],
   "source": [
    "del p1['city']\n",
    "p1.pop('age')\n",
    "p1"
   ]
  },
  {
   "cell_type": "code",
   "execution_count": 29,
   "id": "634ef96e",
   "metadata": {},
   "outputs": [
    {
     "ename": "NameError",
     "evalue": "name 'p1' is not defined",
     "output_type": "error",
     "traceback": [
      "\u001b[0;31m---------------------------------------------------------------------------\u001b[0m",
      "\u001b[0;31mNameError\u001b[0m                                 Traceback (most recent call last)",
      "Cell \u001b[0;32mIn[29], line 2\u001b[0m\n\u001b[1;32m      1\u001b[0m \u001b[38;5;28;01mdel\u001b[39;00m p1\n\u001b[0;32m----> 2\u001b[0m p1\n",
      "\u001b[0;31mNameError\u001b[0m: name 'p1' is not defined"
     ]
    }
   ],
   "source": [
    "del p1\n",
    "p1"
   ]
  },
  {
   "cell_type": "markdown",
   "id": "7a7b4841",
   "metadata": {},
   "source": [
    "如何依順序取出串列資料和映射資料的元素值\n",
    "\n",
    "for_in迴圈"
   ]
  },
  {
   "cell_type": "code",
   "execution_count": 32,
   "id": "b9cad9fe",
   "metadata": {},
   "outputs": [
    {
     "name": "stdout",
     "output_type": "stream",
     "text": [
      "蘋果\n",
      "香蕉\n",
      "橘子\n",
      "橘子\n"
     ]
    }
   ],
   "source": [
    "fruits = ['蘋果', '香蕉', '橘子']\n",
    "for testfruit in fruits:\n",
    "    print(testfruit)\n",
    "print(testfruit)    "
   ]
  },
  {
   "cell_type": "code",
   "execution_count": 34,
   "id": "268a37e1",
   "metadata": {},
   "outputs": [
    {
     "name": "stdout",
     "output_type": "stream",
     "text": [
      "(0, '蘋果')\n",
      "==========\n",
      "(1, '香蕉')\n",
      "==========\n",
      "(2, '橘子')\n",
      "==========\n"
     ]
    }
   ],
   "source": [
    "for fruit in enumerate(fruits):\n",
    "    print(fruit)\n",
    "    print(\"==========\")"
   ]
  },
  {
   "cell_type": "code",
   "execution_count": 35,
   "id": "98757d23",
   "metadata": {},
   "outputs": [
    {
     "name": "stdout",
     "output_type": "stream",
     "text": [
      "0->蘋果\n",
      "==========\n",
      "1->香蕉\n",
      "==========\n",
      "2->橘子\n",
      "==========\n"
     ]
    }
   ],
   "source": [
    "for index,fruit in enumerate(fruits):\n",
    "    print(index, fruit,sep='->')\n",
    "    print(\"==========\")"
   ]
  },
  {
   "cell_type": "code",
   "execution_count": 39,
   "id": "89566880",
   "metadata": {},
   "outputs": [
    {
     "name": "stdout",
     "output_type": "stream",
     "text": [
      "Taipei: 台北\n",
      "New Taipei: 新北市\n",
      "Taoyuan: 桃園\n",
      "Taichung: 台中\n",
      "Tainan: 台南\n",
      "Kaohsiung: 高雄\n",
      "Keelung: 基隆\n",
      "Hsinchu: 新竹\n",
      "Chiayi: 嘉義\n",
      "Hualien: 花蓮\n"
     ]
    }
   ],
   "source": [
    "cities = {\n",
    "    'Taipei': '台北',\n",
    "    'New Taipei': '新北市',\n",
    "    'Taoyuan': '桃園',\n",
    "    'Taichung': '台中',\n",
    "    'Tainan': '台南',\n",
    "    'Kaohsiung': '高雄',\n",
    "    'Keelung': '基隆',\n",
    "    'Hsinchu': '新竹',\n",
    "    'Chiayi': '嘉義',\n",
    "    'Hualien': '花蓮'\n",
    "}\n",
    "#cities\n",
    "\n",
    "for key, value in cities.items():\n",
    "    print(f\"{key}: {value}\")"
   ]
  },
  {
   "cell_type": "code",
   "execution_count": null,
   "id": "03ce68a8",
   "metadata": {},
   "outputs": [],
   "source": [
    "import random\n",
    "\n",
    "#一個學生(student)的dictionary,格式如下:\n",
    "#{'name':'value','chinese':78,'english':98,'math':67,'history':87,'health':76}\n",
    "#請使用list幫我建立50個學生\n",
    "students = []\n",
    "students.append({'name': 'Student1', 'chinese': random.randint(60, 100), 'english': random.randint(60, 100), 'math': random.randint(60, 100), 'history': random.randint(60, 100), 'health': random.randint(60, 100)})\n",
    "students.append({'name': 'Student2', 'chinese': random.randint(60, 100), 'english': random.randint(60, 100), 'math': random.randint(60, 100), 'history': random.randint(60, 100), 'health': random.randint(60, 100)})\n",
    "students.append({'name': 'Student3', 'chinese': random.randint(60, 100), 'english': random.randint(60, 100), 'math': random.randint(60, 100), 'history': random.randint(60, 100), 'health': random.randint(60, 100)})\n",
    "students.append({'name': 'Student4', 'chinese': random.randint(60, 100), 'english': random.randint(60, 100), 'math': random.randint(60, 100), 'history': random.randint(60, 100), 'health': random.randint(60, 100)})\n",
    "students.append({'name': 'Student5', 'chinese': random.randint(60, 100), 'english': random.randint(60, 100), 'math': random.randint(60, 100), 'history': random.randint(60, 100), 'health': random.randint(60, 100)})\n",
    "students.append({'name': 'Student6', 'chinese': random.randint(60, 100), 'english': random.randint(60, 100), 'math': random.randint(60, 100), 'history': random.randint(60, 100), 'health': random.randint(60, 100)})\n",
    "students.append({'name': 'Student7', 'chinese': random.randint(60, 100), 'english': random.randint(60, 100), 'math': random.randint(60, 100), 'history': random.randint(60, 100), 'health': random.randint(60, 100)})\n",
    "students.append({'name': 'Student8', 'chinese': random.randint(60, 100), 'english': random.randint(60, 100), 'math': random.randint(60, 100), 'history': random.randint(60, 100), 'health': random.randint(60, 100)})\n",
    "students.append({'name': 'Student9', 'chinese': random.randint(60, 100), 'english': random.randint(60, 100), 'math': random.randint(60, 100), 'history': random.randint(60, 100), 'health': random.randint(60, 100)})\n",
    "students.append({'name': 'Student10', 'chinese': random.randint(60, 100), 'english': random.randint(60, 100), 'math': random.randint(60, 100), 'history': random.randint(60, 100), 'health': random.randint(60, 100)})\n",
    "students.append({'name': 'Student11', 'chinese': random.randint(60, 100), 'english': random.randint(60, 100), 'math': random.randint(60, 100), 'history': random.randint(60, 100), 'health': random.randint(60, 100)})\n",
    "students.append({'name': 'Student12', 'chinese': random.randint(60, 100), 'english': random.randint(60, 100), 'math': random.randint(60, 100), 'history': random.randint(60, 100), 'health': random.randint(60, 100)})\n",
    "students.append({'name': 'Student13', 'chinese': random.randint(60, 100), 'english': random.randint(60, 100), 'math': random.randint(60, 100), 'history': random.randint(60, 100), 'health': random.randint(60, 100)})\n",
    "students.append({'name': 'Student14', 'chinese': random.randint(60, 100), 'english': random.randint(60, 100), 'math': random.randint(60, 100), 'history': random.randint(60, 100), 'health': random.randint(60, 100)})\n",
    "students.append({'name': 'Student15', 'chinese': random.randint(60, 100), 'english': random.randint(60, 100), 'math': random.randint(60, 100), 'history': random.randint(60, 100), 'health': random.randint(60, 100)})\n",
    "students.append({'name': 'Student16', 'chinese': random.randint(60, 100), 'english': random.randint(60, 100), 'math': random.randint(60, 100), 'history': random.randint(60, 100), 'health': random.randint(60, 100)})\n",
    "students.append({'name': 'Student17', 'chinese': random.randint(60, 100), 'english': random.randint(60, 100), 'math': random.randint(60, 100), 'history': random.randint(60, 100), 'health': random.randint(60, 100)})\n",
    "students.append({'name': 'Student18', 'chinese': random.randint(60, 100), 'english': random.randint(60, 100), 'math': random.randint(60, 100), 'history': random.randint(60, 100), 'health': random.randint(60, 100)})\n",
    "students.append({'name': 'Student19', 'chinese': random.randint(60, 100), 'english': random.randint(60, 100), 'math': random.randint(60, 100), 'history': random.randint(60, 100), 'health': random.randint(60, 100)})\n",
    "students.append({'name': 'Student20', 'chinese': random.randint(60, 100), 'english': random.randint(60, 100), 'math': random.randint(60, 100), 'history': random.randint(60, 100), 'health': random.randint(60, 100)})\n",
    "students.append({'name': 'Student21', 'chinese': random.randint(60, 100), 'english': random.randint(60, 100), 'math': random.randint(60, 100), 'history': random.randint(60, 100), 'health': random.randint(60, 100)})\n",
    "students.append({'name': 'Student22', 'chinese': random.randint(60, 100), 'english': random.randint(60, 100), 'math': random.randint(60, 100), 'history': random.randint(60, 100), 'health': random.randint(60, 100)})\n",
    "students.append({'name': 'Student23', 'chinese': random.randint(60, 100), 'english': random.randint(60, 100), 'math': random.randint(60, 100), 'history': random.randint(60, 100), 'health': random.randint(60, 100)})\n",
    "students.append({'name': 'Student24', 'chinese': random.randint(60, 100), 'english': random.randint(60, 100), 'math': random.randint(60, 100), 'history': random.randint(60, 100), 'health': random.randint(60, 100)})\n",
    "students.append({'name': 'Student25', 'chinese': random.randint(60, 100), 'english': random.randint(60, 100), 'math': random.randint(60, 100), 'history': random.randint(60, 100), 'health': random.randint(60, 100)})\n",
    "students.append({'name': 'Student26', 'chinese': random.randint(60, 100), 'english': random.randint(60, 100), 'math': random.randint(60, 100), 'history': random.randint(60, 100), 'health': random.randint(60, 100)})\n",
    "students.append({'name': 'Student27', 'chinese': random.randint(60, 100), 'english': random.randint(60, 100), 'math': random.randint(60, 100), 'history': random.randint(60, 100), 'health': random.randint(60, 100)})\n",
    "students.append({'name': 'Student28', 'chinese': random.randint(60, 100), 'english': random.randint(60, 100), 'math': random.randint(60, 100), 'history': random.randint(60, 100), 'health': random.randint(60, 100)})\n",
    "students.append({'name': 'Student29', 'chinese': random.randint(60, 100), 'english': random.randint(60, 100), 'math': random.randint(60, 100), 'history': random.randint(60, 100), 'health': random.randint(60, 100)})\n",
    "students.append({'name': 'Student30', 'chinese': random.randint(60, 100), 'english': random.randint(60, 100), 'math': random.randint(60, 100), 'history': random.randint(60, 100), 'health': random.randint(60, 100)})\n",
    "students.append({'name': 'Student31', 'chinese': random.randint(60, 100), 'english': random.randint(60, 100), 'math': random.randint(60, 100), 'history': random.randint(60, 100), 'health': random.randint(60, 100)})\n",
    "students.append({'name': 'Student32', 'chinese': random.randint(60, 100), 'english': random.randint(60, 100), 'math': random.randint(60, 100), 'history': random.randint(60, 100), 'health': random.randint(60, 100)})\n",
    "students.append({'name': 'Student33', 'chinese': random.randint(60, 100), 'english': random.randint(60, 100), 'math': random.randint(60, 100), 'history': random.randint(60, 100), 'health': random.randint(60, 100)})\n",
    "students.append({'name': 'Student34', 'chinese': random.randint(60, 100), 'english': random.randint(60, 100), 'math': random.randint(60, 100), 'history': random.randint(60, 100), 'health': random.randint(60, 100)})\n",
    "students.append({'name': 'Student35', 'chinese': random.randint(60, 100), 'english': random.randint(60, 100), 'math': random.randint(60, 100), 'history': random.randint(60, 100), 'health': random.randint(60, 100)})\n",
    "students.append({'name': 'Student36', 'chinese': random.randint(60, 100), 'english': random.randint(60, 100), 'math': random.randint(60, 100), 'history': random.randint(60, 100), 'health': random.randint(60, 100)})\n",
    "students.append({'name': 'Student37', 'chinese': random.randint(60, 100), 'english': random.randint(60, 100), 'math': random.randint(60, 100), 'history': random.randint(60, 100), 'health': random.randint(60, 100)})\n",
    "students.append({'name': 'Student38', 'chinese': random.randint(60, 100), 'english': random.randint(60, 100), 'math': random.randint(60, 100), 'history': random.randint(60, 100), 'health': random.randint(60, 100)})\n",
    "students.append({'name': 'Student39', 'chinese': random.randint(60, 100), 'english': random.randint(60, 100), 'math': random.randint(60, 100), 'history': random.randint(60, 100), 'health': random.randint(60, 100)})\n",
    "students.append({'name': 'Student40', 'chinese': random.randint(60, 100), 'english': random.randint(60, 100), 'math': random.randint(60, 100), 'history': random.randint(60, 100), 'health': random.randint(60, 100)})\n",
    "students.append({'name': 'Student41', 'chinese': random.randint(60, 100), 'english': random.randint(60, 100), 'math': random.randint(60, 100), 'history': random.randint(60, 100), 'health': random.randint(60, 100)})\n",
    "students.append({'name': 'Student42', 'chinese': random.randint(60, 100), 'english': random.randint(60, 100), 'math': random.randint(60, 100), 'history': random.randint(60, 100), 'health': random.randint(60, 100)})\n",
    "students.append({'name': 'Student43', 'chinese': random.randint(60, 100), 'english': random.randint(60, 100), 'math': random.randint(60, 100), 'history': random.randint(60, 100), 'health': random.randint(60, 100)})\n",
    "students.append({'name': 'Student44', 'chinese': random.randint(60, 100), 'english': random.randint(60, 100), 'math': random.randint(60, 100), 'history': random.randint(60, 100), 'health': random.randint(60, 100)})\n",
    "students.append({'name': 'Student45', 'chinese': random.randint(60, 100), 'english': random.randint(60, 100), 'math': random.randint(60, 100), 'history': random.randint(60, 100), 'health': random.randint(60, 100)})\n",
    "students.append({'name': 'Student46', 'chinese': random.randint(60, 100), 'english': random.randint(60, 100), 'math': random.randint(60, 100), 'history': random.randint(60, 100), 'health': random.randint(60, 100)})\n",
    "students.append({'name': 'Student47', 'chinese': random.randint(60, 100), 'english': random.randint(60, 100), 'math': random.randint(60, 100), 'history': random.randint(60, 100), 'health': random.randint(60, 100)})\n",
    "students.append({'name': 'Student48', 'chinese': random.randint(60, 100), 'english': random.randint(60, 100), 'math': random.randint(60, 100), 'history': random.randint(60, 100), 'health': random.randint(60, 100)})\n",
    "students.append({'name': 'Student49', 'chinese': random.randint(60, 100), 'english': random.randint(60, 100), 'math': random.randint(60, 100), 'history': random.randint(60, 100), 'health': random.randint(60, 100)})\n",
    "students.append({'name': 'Student50', 'chinese': random.randint(60, 100), 'english': random.randint(60, 100), 'math': random.randint(60, 100), 'history': random.randint(60, 100), 'health': random.randint(60, 100)})\n",
    "students"
   ]
  },
  {
   "cell_type": "code",
   "execution_count": null,
   "id": "05d91310",
   "metadata": {},
   "outputs": [],
   "source": [
    "import random\n",
    "students = []\n",
    "for i in range(1,51):\n",
    "    students.append(\n",
    "        {\n",
    "            'name':f'student{i}',\n",
    "            'chinese':random.randint(50,100),\n",
    "            'english':random.randint(50,100),\n",
    "            'math':random.randint(50,100),\n",
    "            'history':random.randint(50,100),\n",
    "            'health':random.randint(50,100)\n",
    "        }\n",
    "    )\n",
    "\n",
    "students_str = str(students)\n",
    "students_str"
   ]
  },
  {
   "cell_type": "code",
   "execution_count": null,
   "id": "24f1a299",
   "metadata": {},
   "outputs": [],
   "source": [
    "for scores in students:\n",
    "    print(scores)"
   ]
  },
  {
   "cell_type": "code",
   "execution_count": null,
   "id": "9688a779",
   "metadata": {},
   "outputs": [],
   "source": [
    "# 將 students 列表轉換為字串\n",
    "students_str = '\\n'.join([\n",
    "    f\"姓名:{student['name']}, \"\n",
    "    f\"國文:{student['chinese']}, \"\n",
    "    f\"英文:{student['english']}, \"\n",
    "    f\"數學:{student['math']}, \"\n",
    "    f\"歷史:{student['history']}, \"\n",
    "    f\"健康:{student['health']}\"\n",
    "    for student in students\n",
    "])\n",
    "\n",
    "type(students_str)"
   ]
  },
  {
   "cell_type": "code",
   "execution_count": null,
   "id": "2467cd79",
   "metadata": {},
   "outputs": [],
   "source": [
    "print(students_str,file=open('students.txt',mode='w',encoding='utf-8'))"
   ]
  }
 ],
 "metadata": {
  "kernelspec": {
   "display_name": "base",
   "language": "python",
   "name": "python3"
  },
  "language_info": {
   "codemirror_mode": {
    "name": "ipython",
    "version": 3
   },
   "file_extension": ".py",
   "mimetype": "text/x-python",
   "name": "python",
   "nbconvert_exporter": "python",
   "pygments_lexer": "ipython3",
   "version": "3.12.7"
  }
 },
 "nbformat": 4,
 "nbformat_minor": 5
}
