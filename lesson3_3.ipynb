{
 "cells": [
  {
   "cell_type": "code",
   "execution_count": null,
   "id": "4b8ba581",
   "metadata": {},
   "outputs": [],
   "source": [
    "import random\n",
    "students = []\n",
    "for i in range(1,51):\n",
    "    students.append(\n",
    "        {\n",
    "            'name':f'student{i}',\n",
    "            'chinese':random.randint(50,100),\n",
    "            'english':random.randint(50,100),\n",
    "            'math':random.randint(50,100),\n",
    "            'history':random.randint(50,100),\n",
    "            'health':random.randint(50,100)\n",
    "        }\n",
    "    )\n",
    "students"
   ]
  },
  {
   "cell_type": "code",
   "execution_count": null,
   "id": "397b1755",
   "metadata": {},
   "outputs": [],
   "source": [
    "import csv\n",
    "\n",
    "file = open('student.csv',mode='w',encoding='utf-8',newline='')\n",
    "writer =csv.DictWriter(file,[\"name\",\"chinese\",\"english\",\"math\",\"history\",\"health\"])\n",
    "#print(type(writer))\n",
    "writer.writeheader()\n",
    "writer.writerows(students)\n",
    "#file.close()\n",
    "file.closed"
   ]
  },
  {
   "cell_type": "code",
   "execution_count": null,
   "id": "d6aeca60",
   "metadata": {},
   "outputs": [],
   "source": [
    "import csv\n",
    "\n",
    "with open('student.csv',mode='w',encoding='utf-8',newline='') as file:\n",
    "    writer =csv.DictWriter(file,[\"name\",\"chinese\",\"english\",\"math\",\"history\",\"health\"])\n",
    "    #print(type(writer))\n",
    "    writer.writeheader()\n",
    "    writer.writerows(students)\n",
    "#file.close()\n",
    "file.closed"
   ]
  },
  {
   "cell_type": "code",
   "execution_count": null,
   "id": "5bfc9bb5",
   "metadata": {},
   "outputs": [],
   "source": []
  }
 ],
 "metadata": {
  "kernelspec": {
   "display_name": "base",
   "language": "python",
   "name": "python3"
  },
  "language_info": {
   "codemirror_mode": {
    "name": "ipython",
    "version": 3
   },
   "file_extension": ".py",
   "mimetype": "text/x-python",
   "name": "python",
   "nbconvert_exporter": "python",
   "pygments_lexer": "ipython3",
   "version": "3.11.4"
  }
 },
 "nbformat": 4,
 "nbformat_minor": 5
}
