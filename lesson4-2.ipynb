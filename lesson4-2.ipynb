{
 "cells": [
  {
   "cell_type": "code",
   "execution_count": 5,
   "id": "5ea7fa7a",
   "metadata": {},
   "outputs": [
    {
     "data": {
      "text/plain": [
       "_io.TextIOWrapper"
      ]
     },
     "execution_count": 5,
     "metadata": {},
     "output_type": "execute_result"
    }
   ],
   "source": [
    "file = open(file='student.csv',encoding='utf-8')\n",
    "#file.close()\n",
    "type(file)"
   ]
  },
  {
   "cell_type": "code",
   "execution_count": 8,
   "id": "94bbee80",
   "metadata": {},
   "outputs": [
    {
     "name": "stdout",
     "output_type": "stream",
     "text": [
      "<class 'str'>\n",
      "name,chinese,english,math,history,health\n",
      "student1,87,56,72,74,68\n",
      "student2,57,98,60,74,82\n",
      "student3,73,64,81,69,68\n",
      "student4,85,55,87,81,50\n",
      "student5,67,57,88,98,51\n",
      "student6,56,92,69,100,96\n",
      "student7,93,70,68,80,72\n",
      "student8,54,55,70,57,53\n",
      "student9,84,69,99,97,71\n",
      "student10,79,94,51,84,90\n",
      "student11,85,86,70,60,79\n",
      "student12,64,80,89,99,75\n",
      "student13,70,84,68,58,92\n",
      "student14,92,86,72,51,86\n",
      "student15,67,58,60,55,88\n",
      "student16,90,64,57,80,83\n",
      "student17,76,95,86,62,93\n",
      "student18,96,98,74,64,52\n",
      "student19,53,74,95,90,99\n",
      "student20,91,87,59,98,79\n",
      "student21,76,64,79,68,85\n",
      "student22,95,79,69,61,59\n",
      "student23,66,58,56,89,95\n",
      "student24,72,68,87,81,64\n",
      "student25,99,93,51,66,100\n",
      "student26,58,77,51,60,72\n",
      "student27,97,91,89,51,61\n",
      "student28,82,51,67,78,80\n",
      "student29,52,97,71,63,51\n",
      "student30,55,96,96,72,67\n",
      "student31,64,71,99,94,69\n",
      "student32,91,57,89,89,91\n",
      "student33,97,79,99,60,66\n",
      "student34,68,76,96,55,72\n",
      "student35,75,95,54,59,94\n",
      "student36,72,65,83,98,58\n",
      "student37,71,55,70,100,87\n",
      "student38,84,50,71,54,54\n",
      "student39,67,79,79,55,52\n",
      "student40,65,98,68,58,88\n",
      "student41,65,81,87,100,77\n",
      "student42,80,75,80,95,89\n",
      "student43,59,80,53,50,60\n",
      "student44,92,86,81,67,64\n",
      "student45,51,63,59,91,84\n",
      "student46,61,86,80,66,57\n",
      "student47,97,88,94,100,61\n",
      "student48,89,97,50,50,95\n",
      "student49,68,92,95,51,71\n",
      "student50,94,71,51,90,87\n",
      "\n"
     ]
    }
   ],
   "source": [
    "with open(file='student.csv',encoding='utf-8') as file:\n",
    "    #content:str = file.read()\n",
    "    content = file.read()\n",
    "    print(type(content))\n",
    "    #pass\n",
    "print(content)"
   ]
  },
  {
   "cell_type": "code",
   "execution_count": 14,
   "id": "df885fb4",
   "metadata": {},
   "outputs": [
    {
     "name": "stdout",
     "output_type": "stream",
     "text": [
      "['name,chinese,english,math,history,health\\n', 'student1,87,56,72,74,68\\n', 'student2,57,98,60,74,82\\n', 'student3,73,64,81,69,68\\n', 'student4,85,55,87,81,50\\n', 'student5,67,57,88,98,51\\n', 'student6,56,92,69,100,96\\n', 'student7,93,70,68,80,72\\n', 'student8,54,55,70,57,53\\n', 'student9,84,69,99,97,71\\n', 'student10,79,94,51,84,90\\n', 'student11,85,86,70,60,79\\n', 'student12,64,80,89,99,75\\n', 'student13,70,84,68,58,92\\n', 'student14,92,86,72,51,86\\n', 'student15,67,58,60,55,88\\n', 'student16,90,64,57,80,83\\n', 'student17,76,95,86,62,93\\n', 'student18,96,98,74,64,52\\n', 'student19,53,74,95,90,99\\n', 'student20,91,87,59,98,79\\n', 'student21,76,64,79,68,85\\n', 'student22,95,79,69,61,59\\n', 'student23,66,58,56,89,95\\n', 'student24,72,68,87,81,64\\n', 'student25,99,93,51,66,100\\n', 'student26,58,77,51,60,72\\n', 'student27,97,91,89,51,61\\n', 'student28,82,51,67,78,80\\n', 'student29,52,97,71,63,51\\n', 'student30,55,96,96,72,67\\n', 'student31,64,71,99,94,69\\n', 'student32,91,57,89,89,91\\n', 'student33,97,79,99,60,66\\n', 'student34,68,76,96,55,72\\n', 'student35,75,95,54,59,94\\n', 'student36,72,65,83,98,58\\n', 'student37,71,55,70,100,87\\n', 'student38,84,50,71,54,54\\n', 'student39,67,79,79,55,52\\n', 'student40,65,98,68,58,88\\n', 'student41,65,81,87,100,77\\n', 'student42,80,75,80,95,89\\n', 'student43,59,80,53,50,60\\n', 'student44,92,86,81,67,64\\n', 'student45,51,63,59,91,84\\n', 'student46,61,86,80,66,57\\n', 'student47,97,88,94,100,61\\n', 'student48,89,97,50,50,95\\n', 'student49,68,92,95,51,71\\n', 'student50,94,71,51,90,87\\n']\n"
     ]
    }
   ],
   "source": [
    "with open(file='student.csv',encoding='utf-8') as file:\n",
    "    #print(file.readlines())\n",
    "    lines:list[str] = file.readlines()\n",
    "    print(lines)\n",
    "    #print(file.readlines())\n"
   ]
  },
  {
   "cell_type": "code",
   "execution_count": 16,
   "id": "d63809dc",
   "metadata": {},
   "outputs": [
    {
     "name": "stdout",
     "output_type": "stream",
     "text": [
      "['name', 'chinese', 'english', 'math', 'history', 'health']\n",
      "['student1', '87', '56', '72', '74', '68']\n",
      "['student2', '57', '98', '60', '74', '82']\n",
      "['student3', '73', '64', '81', '69', '68']\n",
      "['student4', '85', '55', '87', '81', '50']\n",
      "['student5', '67', '57', '88', '98', '51']\n",
      "['student6', '56', '92', '69', '100', '96']\n",
      "['student7', '93', '70', '68', '80', '72']\n",
      "['student8', '54', '55', '70', '57', '53']\n",
      "['student9', '84', '69', '99', '97', '71']\n",
      "['student10', '79', '94', '51', '84', '90']\n",
      "['student11', '85', '86', '70', '60', '79']\n",
      "['student12', '64', '80', '89', '99', '75']\n",
      "['student13', '70', '84', '68', '58', '92']\n",
      "['student14', '92', '86', '72', '51', '86']\n",
      "['student15', '67', '58', '60', '55', '88']\n",
      "['student16', '90', '64', '57', '80', '83']\n",
      "['student17', '76', '95', '86', '62', '93']\n",
      "['student18', '96', '98', '74', '64', '52']\n",
      "['student19', '53', '74', '95', '90', '99']\n",
      "['student20', '91', '87', '59', '98', '79']\n",
      "['student21', '76', '64', '79', '68', '85']\n",
      "['student22', '95', '79', '69', '61', '59']\n",
      "['student23', '66', '58', '56', '89', '95']\n",
      "['student24', '72', '68', '87', '81', '64']\n",
      "['student25', '99', '93', '51', '66', '100']\n",
      "['student26', '58', '77', '51', '60', '72']\n",
      "['student27', '97', '91', '89', '51', '61']\n",
      "['student28', '82', '51', '67', '78', '80']\n",
      "['student29', '52', '97', '71', '63', '51']\n",
      "['student30', '55', '96', '96', '72', '67']\n",
      "['student31', '64', '71', '99', '94', '69']\n",
      "['student32', '91', '57', '89', '89', '91']\n",
      "['student33', '97', '79', '99', '60', '66']\n",
      "['student34', '68', '76', '96', '55', '72']\n",
      "['student35', '75', '95', '54', '59', '94']\n",
      "['student36', '72', '65', '83', '98', '58']\n",
      "['student37', '71', '55', '70', '100', '87']\n",
      "['student38', '84', '50', '71', '54', '54']\n",
      "['student39', '67', '79', '79', '55', '52']\n",
      "['student40', '65', '98', '68', '58', '88']\n",
      "['student41', '65', '81', '87', '100', '77']\n",
      "['student42', '80', '75', '80', '95', '89']\n",
      "['student43', '59', '80', '53', '50', '60']\n",
      "['student44', '92', '86', '81', '67', '64']\n",
      "['student45', '51', '63', '59', '91', '84']\n",
      "['student46', '61', '86', '80', '66', '57']\n",
      "['student47', '97', '88', '94', '100', '61']\n",
      "['student48', '89', '97', '50', '50', '95']\n",
      "['student49', '68', '92', '95', '51', '71']\n",
      "['student50', '94', '71', '51', '90', '87']\n"
     ]
    }
   ],
   "source": [
    "import csv\n",
    "with open(file='student.csv',encoding='utf-8') as file:\n",
    "    reader = csv.reader(file)\n",
    "    #print(reader)\n",
    "    for row in reader:\n",
    "        print(row)"
   ]
  },
  {
   "cell_type": "code",
   "execution_count": 19,
   "id": "8cb67571",
   "metadata": {},
   "outputs": [
    {
     "name": "stdout",
     "output_type": "stream",
     "text": [
      "[['name', 'chinese', 'english', 'math', 'history', 'health'], ['student1', '87', '56', '72', '74', '68'], ['student2', '57', '98', '60', '74', '82'], ['student3', '73', '64', '81', '69', '68'], ['student4', '85', '55', '87', '81', '50'], ['student5', '67', '57', '88', '98', '51'], ['student6', '56', '92', '69', '100', '96'], ['student7', '93', '70', '68', '80', '72'], ['student8', '54', '55', '70', '57', '53'], ['student9', '84', '69', '99', '97', '71'], ['student10', '79', '94', '51', '84', '90'], ['student11', '85', '86', '70', '60', '79'], ['student12', '64', '80', '89', '99', '75'], ['student13', '70', '84', '68', '58', '92'], ['student14', '92', '86', '72', '51', '86'], ['student15', '67', '58', '60', '55', '88'], ['student16', '90', '64', '57', '80', '83'], ['student17', '76', '95', '86', '62', '93'], ['student18', '96', '98', '74', '64', '52'], ['student19', '53', '74', '95', '90', '99'], ['student20', '91', '87', '59', '98', '79'], ['student21', '76', '64', '79', '68', '85'], ['student22', '95', '79', '69', '61', '59'], ['student23', '66', '58', '56', '89', '95'], ['student24', '72', '68', '87', '81', '64'], ['student25', '99', '93', '51', '66', '100'], ['student26', '58', '77', '51', '60', '72'], ['student27', '97', '91', '89', '51', '61'], ['student28', '82', '51', '67', '78', '80'], ['student29', '52', '97', '71', '63', '51'], ['student30', '55', '96', '96', '72', '67'], ['student31', '64', '71', '99', '94', '69'], ['student32', '91', '57', '89', '89', '91'], ['student33', '97', '79', '99', '60', '66'], ['student34', '68', '76', '96', '55', '72'], ['student35', '75', '95', '54', '59', '94'], ['student36', '72', '65', '83', '98', '58'], ['student37', '71', '55', '70', '100', '87'], ['student38', '84', '50', '71', '54', '54'], ['student39', '67', '79', '79', '55', '52'], ['student40', '65', '98', '68', '58', '88'], ['student41', '65', '81', '87', '100', '77'], ['student42', '80', '75', '80', '95', '89'], ['student43', '59', '80', '53', '50', '60'], ['student44', '92', '86', '81', '67', '64'], ['student45', '51', '63', '59', '91', '84'], ['student46', '61', '86', '80', '66', '57'], ['student47', '97', '88', '94', '100', '61'], ['student48', '89', '97', '50', '50', '95'], ['student49', '68', '92', '95', '51', '71'], ['student50', '94', '71', '51', '90', '87']]\n",
      "['name', 'chinese', 'english', 'math', 'history', 'health']\n",
      "['student1', '87', '56', '72', '74', '68']\n",
      "['student2', '57', '98', '60', '74', '82']\n",
      "['student3', '73', '64', '81', '69', '68']\n",
      "['student4', '85', '55', '87', '81', '50']\n",
      "['student5', '67', '57', '88', '98', '51']\n",
      "['student6', '56', '92', '69', '100', '96']\n",
      "['student7', '93', '70', '68', '80', '72']\n",
      "['student8', '54', '55', '70', '57', '53']\n",
      "['student9', '84', '69', '99', '97', '71']\n",
      "['student10', '79', '94', '51', '84', '90']\n",
      "['student11', '85', '86', '70', '60', '79']\n",
      "['student12', '64', '80', '89', '99', '75']\n",
      "['student13', '70', '84', '68', '58', '92']\n",
      "['student14', '92', '86', '72', '51', '86']\n",
      "['student15', '67', '58', '60', '55', '88']\n",
      "['student16', '90', '64', '57', '80', '83']\n",
      "['student17', '76', '95', '86', '62', '93']\n",
      "['student18', '96', '98', '74', '64', '52']\n",
      "['student19', '53', '74', '95', '90', '99']\n",
      "['student20', '91', '87', '59', '98', '79']\n",
      "['student21', '76', '64', '79', '68', '85']\n",
      "['student22', '95', '79', '69', '61', '59']\n",
      "['student23', '66', '58', '56', '89', '95']\n",
      "['student24', '72', '68', '87', '81', '64']\n",
      "['student25', '99', '93', '51', '66', '100']\n",
      "['student26', '58', '77', '51', '60', '72']\n",
      "['student27', '97', '91', '89', '51', '61']\n",
      "['student28', '82', '51', '67', '78', '80']\n",
      "['student29', '52', '97', '71', '63', '51']\n",
      "['student30', '55', '96', '96', '72', '67']\n",
      "['student31', '64', '71', '99', '94', '69']\n",
      "['student32', '91', '57', '89', '89', '91']\n",
      "['student33', '97', '79', '99', '60', '66']\n",
      "['student34', '68', '76', '96', '55', '72']\n",
      "['student35', '75', '95', '54', '59', '94']\n",
      "['student36', '72', '65', '83', '98', '58']\n",
      "['student37', '71', '55', '70', '100', '87']\n",
      "['student38', '84', '50', '71', '54', '54']\n",
      "['student39', '67', '79', '79', '55', '52']\n",
      "['student40', '65', '98', '68', '58', '88']\n",
      "['student41', '65', '81', '87', '100', '77']\n",
      "['student42', '80', '75', '80', '95', '89']\n",
      "['student43', '59', '80', '53', '50', '60']\n",
      "['student44', '92', '86', '81', '67', '64']\n",
      "['student45', '51', '63', '59', '91', '84']\n",
      "['student46', '61', '86', '80', '66', '57']\n",
      "['student47', '97', '88', '94', '100', '61']\n",
      "['student48', '89', '97', '50', '50', '95']\n",
      "['student49', '68', '92', '95', '51', '71']\n",
      "['student50', '94', '71', '51', '90', '87']\n"
     ]
    }
   ],
   "source": [
    "import csv\n",
    "with open(file='student.csv',encoding='utf-8') as file:\n",
    "    reader = csv.reader(file)\n",
    "    students:list=list(reader)\n",
    "print(students)\n",
    "for student in students:\n",
    "    print(student)"
   ]
  },
  {
   "cell_type": "code",
   "execution_count": null,
   "id": "649a2220",
   "metadata": {},
   "outputs": [
    {
     "name": "stdout",
     "output_type": "stream",
     "text": [
      "['student20', '91', '87', '59', '98', '79']\n"
     ]
    }
   ],
   "source": [
    "import csv\n",
    "with open(file='student.csv',encoding='utf-8') as file:\n",
    "    reader = csv.reader(file)\n",
    "    #next(reader)  # ヘッダー行をスキップ\n",
    "    students:list=list(reader)\n",
    "#print(students)\n",
    "for student in students:\n",
    "    #print(student[0])\n",
    "    if student[0]=='student20':\n",
    "        print(student)"
   ]
  },
  {
   "cell_type": "code",
   "execution_count": 11,
   "id": "a3d1031e",
   "metadata": {},
   "outputs": [
    {
     "name": "stdout",
     "output_type": "stream",
     "text": [
      "[{'name': 'student1', 'chinese': '87', 'english': '56', 'math': '72', 'history': '74', 'health': '68'}, {'name': 'student2', 'chinese': '57', 'english': '98', 'math': '60', 'history': '74', 'health': '82'}, {'name': 'student3', 'chinese': '73', 'english': '64', 'math': '81', 'history': '69', 'health': '68'}, {'name': 'student4', 'chinese': '85', 'english': '55', 'math': '87', 'history': '81', 'health': '50'}, {'name': 'student5', 'chinese': '67', 'english': '57', 'math': '88', 'history': '98', 'health': '51'}, {'name': 'student6', 'chinese': '56', 'english': '92', 'math': '69', 'history': '100', 'health': '96'}, {'name': 'student7', 'chinese': '93', 'english': '70', 'math': '68', 'history': '80', 'health': '72'}, {'name': 'student8', 'chinese': '54', 'english': '55', 'math': '70', 'history': '57', 'health': '53'}, {'name': 'student9', 'chinese': '84', 'english': '69', 'math': '99', 'history': '97', 'health': '71'}, {'name': 'student10', 'chinese': '79', 'english': '94', 'math': '51', 'history': '84', 'health': '90'}, {'name': 'student11', 'chinese': '85', 'english': '86', 'math': '70', 'history': '60', 'health': '79'}, {'name': 'student12', 'chinese': '64', 'english': '80', 'math': '89', 'history': '99', 'health': '75'}, {'name': 'student13', 'chinese': '70', 'english': '84', 'math': '68', 'history': '58', 'health': '92'}, {'name': 'student14', 'chinese': '92', 'english': '86', 'math': '72', 'history': '51', 'health': '86'}, {'name': 'student15', 'chinese': '67', 'english': '58', 'math': '60', 'history': '55', 'health': '88'}, {'name': 'student16', 'chinese': '90', 'english': '64', 'math': '57', 'history': '80', 'health': '83'}, {'name': 'student17', 'chinese': '76', 'english': '95', 'math': '86', 'history': '62', 'health': '93'}, {'name': 'student18', 'chinese': '96', 'english': '98', 'math': '74', 'history': '64', 'health': '52'}, {'name': 'student19', 'chinese': '53', 'english': '74', 'math': '95', 'history': '90', 'health': '99'}, {'name': 'student20', 'chinese': '91', 'english': '87', 'math': '59', 'history': '98', 'health': '79'}, {'name': 'student21', 'chinese': '76', 'english': '64', 'math': '79', 'history': '68', 'health': '85'}, {'name': 'student22', 'chinese': '95', 'english': '79', 'math': '69', 'history': '61', 'health': '59'}, {'name': 'student23', 'chinese': '66', 'english': '58', 'math': '56', 'history': '89', 'health': '95'}, {'name': 'student24', 'chinese': '72', 'english': '68', 'math': '87', 'history': '81', 'health': '64'}, {'name': 'student25', 'chinese': '99', 'english': '93', 'math': '51', 'history': '66', 'health': '100'}, {'name': 'student26', 'chinese': '58', 'english': '77', 'math': '51', 'history': '60', 'health': '72'}, {'name': 'student27', 'chinese': '97', 'english': '91', 'math': '89', 'history': '51', 'health': '61'}, {'name': 'student28', 'chinese': '82', 'english': '51', 'math': '67', 'history': '78', 'health': '80'}, {'name': 'student29', 'chinese': '52', 'english': '97', 'math': '71', 'history': '63', 'health': '51'}, {'name': 'student30', 'chinese': '55', 'english': '96', 'math': '96', 'history': '72', 'health': '67'}, {'name': 'student31', 'chinese': '64', 'english': '71', 'math': '99', 'history': '94', 'health': '69'}, {'name': 'student32', 'chinese': '91', 'english': '57', 'math': '89', 'history': '89', 'health': '91'}, {'name': 'student33', 'chinese': '97', 'english': '79', 'math': '99', 'history': '60', 'health': '66'}, {'name': 'student34', 'chinese': '68', 'english': '76', 'math': '96', 'history': '55', 'health': '72'}, {'name': 'student35', 'chinese': '75', 'english': '95', 'math': '54', 'history': '59', 'health': '94'}, {'name': 'student36', 'chinese': '72', 'english': '65', 'math': '83', 'history': '98', 'health': '58'}, {'name': 'student37', 'chinese': '71', 'english': '55', 'math': '70', 'history': '100', 'health': '87'}, {'name': 'student38', 'chinese': '84', 'english': '50', 'math': '71', 'history': '54', 'health': '54'}, {'name': 'student39', 'chinese': '67', 'english': '79', 'math': '79', 'history': '55', 'health': '52'}, {'name': 'student40', 'chinese': '65', 'english': '98', 'math': '68', 'history': '58', 'health': '88'}, {'name': 'student41', 'chinese': '65', 'english': '81', 'math': '87', 'history': '100', 'health': '77'}, {'name': 'student42', 'chinese': '80', 'english': '75', 'math': '80', 'history': '95', 'health': '89'}, {'name': 'student43', 'chinese': '59', 'english': '80', 'math': '53', 'history': '50', 'health': '60'}, {'name': 'student44', 'chinese': '92', 'english': '86', 'math': '81', 'history': '67', 'health': '64'}, {'name': 'student45', 'chinese': '51', 'english': '63', 'math': '59', 'history': '91', 'health': '84'}, {'name': 'student46', 'chinese': '61', 'english': '86', 'math': '80', 'history': '66', 'health': '57'}, {'name': 'student47', 'chinese': '97', 'english': '88', 'math': '94', 'history': '100', 'health': '61'}, {'name': 'student48', 'chinese': '89', 'english': '97', 'math': '50', 'history': '50', 'health': '95'}, {'name': 'student49', 'chinese': '68', 'english': '92', 'math': '95', 'history': '51', 'health': '71'}, {'name': 'student50', 'chinese': '94', 'english': '71', 'math': '51', 'history': '90', 'health': '87'}]\n",
      "{'name': 'student20', 'chinese': '91', 'english': '87', 'math': '59', 'history': '98', 'health': '79'}\n"
     ]
    }
   ],
   "source": [
    "import csv\n",
    "\n",
    "with open(file='student.csv', encoding='utf-8') as file:\n",
    "    reader = csv.DictReader(file)\n",
    "    #print(type(reader))\n",
    "    students = list(reader)\n",
    "#print(type(students))\n",
    "print(students)\n",
    "for student in students:\n",
    "    #print(student)\n",
    "    #print(type(student))\n",
    "    if student['name']=='student20':\n",
    "        print(student)\n"
   ]
  }
 ],
 "metadata": {
  "kernelspec": {
   "display_name": "base",
   "language": "python",
   "name": "python3"
  },
  "language_info": {
   "codemirror_mode": {
    "name": "ipython",
    "version": 3
   },
   "file_extension": ".py",
   "mimetype": "text/x-python",
   "name": "python",
   "nbconvert_exporter": "python",
   "pygments_lexer": "ipython3",
   "version": "3.11.4"
  }
 },
 "nbformat": 4,
 "nbformat_minor": 5
}
