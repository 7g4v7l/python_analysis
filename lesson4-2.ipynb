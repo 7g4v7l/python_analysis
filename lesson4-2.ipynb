{
 "cells": [
  {
   "cell_type": "code",
   "execution_count": 1,
   "id": "5ea7fa7a",
   "metadata": {},
   "outputs": [
    {
     "data": {
      "text/plain": [
       "_io.TextIOWrapper"
      ]
     },
     "execution_count": 1,
     "metadata": {},
     "output_type": "execute_result"
    }
   ],
   "source": [
    "file = open(file='student.csv',encoding='utf-8')\n",
    "file.close()\n",
    "type(file)"
   ]
  },
  {
   "cell_type": "code",
   "execution_count": 5,
   "id": "94bbee80",
   "metadata": {},
   "outputs": [
    {
     "name": "stdout",
     "output_type": "stream",
     "text": [
      "name,chinese,english,math,history,health\n",
      "student1,87,56,72,74,68\n",
      "student2,57,98,60,74,82\n",
      "student3,73,64,81,69,68\n",
      "student4,85,55,87,81,50\n",
      "student5,67,57,88,98,51\n",
      "student6,56,92,69,100,96\n",
      "student7,93,70,68,80,72\n",
      "student8,54,55,70,57,53\n",
      "student9,84,69,99,97,71\n",
      "student10,79,94,51,84,90\n",
      "student11,85,86,70,60,79\n",
      "student12,64,80,89,99,75\n",
      "student13,70,84,68,58,92\n",
      "student14,92,86,72,51,86\n",
      "student15,67,58,60,55,88\n",
      "student16,90,64,57,80,83\n",
      "student17,76,95,86,62,93\n",
      "student18,96,98,74,64,52\n",
      "student19,53,74,95,90,99\n",
      "student20,91,87,59,98,79\n",
      "student21,76,64,79,68,85\n",
      "student22,95,79,69,61,59\n",
      "student23,66,58,56,89,95\n",
      "student24,72,68,87,81,64\n",
      "student25,99,93,51,66,100\n",
      "student26,58,77,51,60,72\n",
      "student27,97,91,89,51,61\n",
      "student28,82,51,67,78,80\n",
      "student29,52,97,71,63,51\n",
      "student30,55,96,96,72,67\n",
      "student31,64,71,99,94,69\n",
      "student32,91,57,89,89,91\n",
      "student33,97,79,99,60,66\n",
      "student34,68,76,96,55,72\n",
      "student35,75,95,54,59,94\n",
      "student36,72,65,83,98,58\n",
      "student37,71,55,70,100,87\n",
      "student38,84,50,71,54,54\n",
      "student39,67,79,79,55,52\n",
      "student40,65,98,68,58,88\n",
      "student41,65,81,87,100,77\n",
      "student42,80,75,80,95,89\n",
      "student43,59,80,53,50,60\n",
      "student44,92,86,81,67,64\n",
      "student45,51,63,59,91,84\n",
      "student46,61,86,80,66,57\n",
      "student47,97,88,94,100,61\n",
      "student48,89,97,50,50,95\n",
      "student49,68,92,95,51,71\n",
      "student50,94,71,51,90,87\n",
      "\n"
     ]
    }
   ],
   "source": [
    "with open(file='student.csv',encoding='utf-8') as file:\n",
    "    #content:str = file.read()\n",
    "    content = file.read()\n",
    "    #pass\n",
    "print(content)"
   ]
  },
  {
   "cell_type": "code",
   "execution_count": 6,
   "id": "df885fb4",
   "metadata": {},
   "outputs": [
    {
     "name": "stdout",
     "output_type": "stream",
     "text": [
      "['name,chinese,english,math,history,health\\n', 'student1,87,56,72,74,68\\n', 'student2,57,98,60,74,82\\n', 'student3,73,64,81,69,68\\n', 'student4,85,55,87,81,50\\n', 'student5,67,57,88,98,51\\n', 'student6,56,92,69,100,96\\n', 'student7,93,70,68,80,72\\n', 'student8,54,55,70,57,53\\n', 'student9,84,69,99,97,71\\n', 'student10,79,94,51,84,90\\n', 'student11,85,86,70,60,79\\n', 'student12,64,80,89,99,75\\n', 'student13,70,84,68,58,92\\n', 'student14,92,86,72,51,86\\n', 'student15,67,58,60,55,88\\n', 'student16,90,64,57,80,83\\n', 'student17,76,95,86,62,93\\n', 'student18,96,98,74,64,52\\n', 'student19,53,74,95,90,99\\n', 'student20,91,87,59,98,79\\n', 'student21,76,64,79,68,85\\n', 'student22,95,79,69,61,59\\n', 'student23,66,58,56,89,95\\n', 'student24,72,68,87,81,64\\n', 'student25,99,93,51,66,100\\n', 'student26,58,77,51,60,72\\n', 'student27,97,91,89,51,61\\n', 'student28,82,51,67,78,80\\n', 'student29,52,97,71,63,51\\n', 'student30,55,96,96,72,67\\n', 'student31,64,71,99,94,69\\n', 'student32,91,57,89,89,91\\n', 'student33,97,79,99,60,66\\n', 'student34,68,76,96,55,72\\n', 'student35,75,95,54,59,94\\n', 'student36,72,65,83,98,58\\n', 'student37,71,55,70,100,87\\n', 'student38,84,50,71,54,54\\n', 'student39,67,79,79,55,52\\n', 'student40,65,98,68,58,88\\n', 'student41,65,81,87,100,77\\n', 'student42,80,75,80,95,89\\n', 'student43,59,80,53,50,60\\n', 'student44,92,86,81,67,64\\n', 'student45,51,63,59,91,84\\n', 'student46,61,86,80,66,57\\n', 'student47,97,88,94,100,61\\n', 'student48,89,97,50,50,95\\n', 'student49,68,92,95,51,71\\n', 'student50,94,71,51,90,87\\n']\n"
     ]
    }
   ],
   "source": [
    "with open(file='student.csv',encoding='utf-8') as file:\n",
    "    lines:list[str] = file.readlines()\n",
    "    print(lines)\n",
    "    #print(file.readlines())\n"
   ]
  },
  {
   "cell_type": "code",
   "execution_count": null,
   "id": "a3d1031e",
   "metadata": {},
   "outputs": [],
   "source": [
    "import csv\n",
    "\n",
    "with open(file='student.csv', encoding='utf-8') as file:\n",
    "    reader = csv.DictReader(file)\n",
    "    students = list(reader)\n",
    "\n",
    "print(students)"
   ]
  }
 ],
 "metadata": {
  "kernelspec": {
   "display_name": "base",
   "language": "python",
   "name": "python3"
  },
  "language_info": {
   "codemirror_mode": {
    "name": "ipython",
    "version": 3
   },
   "file_extension": ".py",
   "mimetype": "text/x-python",
   "name": "python",
   "nbconvert_exporter": "python",
   "pygments_lexer": "ipython3",
   "version": "3.12.7"
  }
 },
 "nbformat": 4,
 "nbformat_minor": 5
}
